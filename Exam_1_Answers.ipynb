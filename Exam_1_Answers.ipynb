{
 "cells": [
  {
   "cell_type": "markdown",
   "metadata": {},
   "source": [
    "## Problem 2"
   ]
  },
  {
   "cell_type": "code",
   "execution_count": 1,
   "metadata": {},
   "outputs": [
    {
     "name": "stdout",
     "output_type": "stream",
     "text": [
      "total 2.4M\n",
      "-rw-rw-r-- 1 osboxes osboxes 1.2M Sep  5 19:38  conv.txt\n",
      "-rw-rw-r-- 1 osboxes osboxes  147 Sep  5 19:38  DISCLAIMER\n",
      "-rw-rw-r-- 1 osboxes osboxes  505 Sep  5 19:51  Exam_1_Answers.ipynb\n",
      "-rw-rw-r-- 1 osboxes osboxes 5.5K Sep  5 19:38 'Exam Week 1.ipynb'\n",
      "-rw-rw-r-- 1 osboxes osboxes 3.9K Sep  5 19:38 'Exam Week 2.ipynb'\n",
      "-rw-rw-r-- 1 osboxes osboxes 4.2K Sep  5 19:38  Germplasm.tsv\n",
      "-rw-rw-r-- 1 osboxes osboxes  141 Sep  5 19:38  how_to_convert.txt\n",
      "-rw-rw-r-- 1 osboxes osboxes 1.1K Sep  5 19:38  LICENSE\n",
      "-rw-rw-r-- 1 osboxes osboxes  637 Sep  5 19:38  LocusGene.tsv\n",
      "-rw-rw-r-- 1 osboxes osboxes 1.2M Sep  5 19:38  Locus_Germplasm_Phenotype_20130122.txt\n",
      "-rw-rw-r-- 1 osboxes osboxes  743 Sep  5 19:38  README.md\n"
     ]
    }
   ],
   "source": [
    "ls -lh"
   ]
  },
  {
   "cell_type": "markdown",
   "metadata": {},
   "source": [
    "Regarding the permissions of the files in the exams folder, the user (osboxes) can read and write all files (rw-). The group, in this case osboxes, can also read and write all files (rw-). Finally, 'everyone' can only read the files in this folder (r--)"
   ]
  },
  {
   "cell_type": "markdown",
   "metadata": {},
   "source": [
    "## Problem 3"
   ]
  },
  {
   "cell_type": "code",
   "execution_count": 2,
   "metadata": {},
   "outputs": [
    {
     "name": "stdout",
     "output_type": "stream",
     "text": [
      "Locus_name)\tGermplasm_name\tphenotype\tpubmed_id\n"
     ]
    }
   ],
   "source": [
    "head -1 Locus_Germplasm_Phenotype_20130122.txt"
   ]
  },
  {
   "cell_type": "markdown",
   "metadata": {},
   "source": [
    "The command head with the flag -1 prints only the first line of the file 'Locus_Germplasm_Phenotype_20130122.txt'. That flag specifies the number of lines to print, but in this case we just want the first line."
   ]
  },
  {
   "cell_type": "markdown",
   "metadata": {},
   "source": [
    "## Problem 4"
   ]
  },
  {
   "cell_type": "code",
   "execution_count": 3,
   "metadata": {},
   "outputs": [
    {
     "name": "stdout",
     "output_type": "stream",
     "text": [
      "7216\n"
     ]
    }
   ],
   "source": [
    "cat Locus_Germplasm_Phenotype_20130122.txt | wc -l"
   ]
  },
  {
   "cell_type": "markdown",
   "metadata": {},
   "source": [
    "To solve this problem we use the command cat to output to the stdout all the content of the file. Then we 'pipe' (|) the output of that command as input to the command wc (word count). As the word implies, this command counts the word of the input. We use the flag -l to specify that we only want the number of lines in the input. Thus we conclude that the file Locus_Germplasm_Phenotype_20130122.txt has 7216 lines."
   ]
  },
  {
   "cell_type": "markdown",
   "metadata": {},
   "source": [
    "## Problem 5"
   ]
  },
  {
   "cell_type": "code",
   "execution_count": null,
   "metadata": {},
   "outputs": [],
   "source": []
  }
 ],
 "metadata": {
  "kernelspec": {
   "display_name": "Bash",
   "language": "bash",
   "name": "bash"
  },
  "language_info": {
   "codemirror_mode": "shell",
   "file_extension": ".sh",
   "mimetype": "text/x-sh",
   "name": "bash"
  }
 },
 "nbformat": 4,
 "nbformat_minor": 2
}
